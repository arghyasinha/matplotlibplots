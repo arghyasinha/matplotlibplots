{
 "cells": [
  {
   "cell_type": "code",
   "execution_count": 75,
   "id": "acd8fec8",
   "metadata": {},
   "outputs": [],
   "source": [
    "import numpy as np\n",
    "import pandas as pd\n",
    "import matplotlib.pyplot as plt\n",
    "from collections import Counter"
   ]
  },
  {
   "cell_type": "code",
   "execution_count": 76,
   "id": "7e1d0abf",
   "metadata": {},
   "outputs": [],
   "source": [
    "data=pd.read_csv(\"Swiggy_Bangalore.csv\")"
   ]
  },
  {
   "cell_type": "code",
   "execution_count": 77,
   "id": "8cf68945",
   "metadata": {},
   "outputs": [
    {
     "data": {
      "text/html": [
       "<div>\n",
       "<style scoped>\n",
       "    .dataframe tbody tr th:only-of-type {\n",
       "        vertical-align: middle;\n",
       "    }\n",
       "\n",
       "    .dataframe tbody tr th {\n",
       "        vertical-align: top;\n",
       "    }\n",
       "\n",
       "    .dataframe thead th {\n",
       "        text-align: right;\n",
       "    }\n",
       "</style>\n",
       "<table border=\"1\" class=\"dataframe\">\n",
       "  <thead>\n",
       "    <tr style=\"text-align: right;\">\n",
       "      <th></th>\n",
       "      <th>Restaurant Name</th>\n",
       "      <th>Category</th>\n",
       "      <th>Rating</th>\n",
       "      <th>Cost for Two (in Rupees)</th>\n",
       "      <th>Area</th>\n",
       "      <th>Offer</th>\n",
       "      <th>URL</th>\n",
       "    </tr>\n",
       "  </thead>\n",
       "  <tbody>\n",
       "    <tr>\n",
       "      <th>0</th>\n",
       "      <td>Khichdi Paradise</td>\n",
       "      <td>Home Food, Desserts, Beverages, Healthy Food</td>\n",
       "      <td>NaN</td>\n",
       "      <td>250</td>\n",
       "      <td>Arekere</td>\n",
       "      <td>NaN</td>\n",
       "      <td>https://www.swiggy.com/restaurants/khichdi-par...</td>\n",
       "    </tr>\n",
       "    <tr>\n",
       "      <th>1</th>\n",
       "      <td>Home Plate by EatFit</td>\n",
       "      <td>North Indian, Home Food, Healthy Food, Indian,...</td>\n",
       "      <td>3.9</td>\n",
       "      <td>160</td>\n",
       "      <td>Arekere</td>\n",
       "      <td>NaN</td>\n",
       "      <td>https://www.swiggy.com/restaurants/home-plate-...</td>\n",
       "    </tr>\n",
       "    <tr>\n",
       "      <th>2</th>\n",
       "      <td>THE GRILL &amp; CO.</td>\n",
       "      <td>Indian, Tandoor, Biryani</td>\n",
       "      <td>NaN</td>\n",
       "      <td>300</td>\n",
       "      <td>Arekere</td>\n",
       "      <td>NaN</td>\n",
       "      <td>https://www.swiggy.com/restaurants/the-grill-a...</td>\n",
       "    </tr>\n",
       "    <tr>\n",
       "      <th>3</th>\n",
       "      <td>555 Darjeeling Unique Asian Cuisine</td>\n",
       "      <td>Asian</td>\n",
       "      <td>NaN</td>\n",
       "      <td>300</td>\n",
       "      <td>Arekere</td>\n",
       "      <td>NaN</td>\n",
       "      <td>https://www.swiggy.com/restaurants/555-darjeel...</td>\n",
       "    </tr>\n",
       "    <tr>\n",
       "      <th>4</th>\n",
       "      <td>Momo Guy</td>\n",
       "      <td>Asian, Tibetan, Desserts, Beverages</td>\n",
       "      <td>NaN</td>\n",
       "      <td>200</td>\n",
       "      <td>Arekere</td>\n",
       "      <td>NaN</td>\n",
       "      <td>https://www.swiggy.com/restaurants/momo-guy-jp...</td>\n",
       "    </tr>\n",
       "    <tr>\n",
       "      <th>...</th>\n",
       "      <td>...</td>\n",
       "      <td>...</td>\n",
       "      <td>...</td>\n",
       "      <td>...</td>\n",
       "      <td>...</td>\n",
       "      <td>...</td>\n",
       "      <td>...</td>\n",
       "    </tr>\n",
       "    <tr>\n",
       "      <th>10292</th>\n",
       "      <td>Holy Chic</td>\n",
       "      <td>Continental</td>\n",
       "      <td>NaN</td>\n",
       "      <td>700</td>\n",
       "      <td>Yeshwanthpur</td>\n",
       "      <td>NaN</td>\n",
       "      <td>https://www.swiggy.com/restaurants/holy-chic-y...</td>\n",
       "    </tr>\n",
       "    <tr>\n",
       "      <th>10293</th>\n",
       "      <td>PAPA ROLLS</td>\n",
       "      <td>North Indian, Chinese</td>\n",
       "      <td>NaN</td>\n",
       "      <td>150</td>\n",
       "      <td>Yeshwanthpur</td>\n",
       "      <td>NaN</td>\n",
       "      <td>https://www.swiggy.com/restaurants/papa-rolls-...</td>\n",
       "    </tr>\n",
       "    <tr>\n",
       "      <th>10294</th>\n",
       "      <td>RICE SAMBAR</td>\n",
       "      <td>South Indian, Chinese</td>\n",
       "      <td>NaN</td>\n",
       "      <td>400</td>\n",
       "      <td>Yeshwanthpur</td>\n",
       "      <td>NaN</td>\n",
       "      <td>https://www.swiggy.com/restaurants/rice-sambar...</td>\n",
       "    </tr>\n",
       "    <tr>\n",
       "      <th>10295</th>\n",
       "      <td>Paris Family Restaurant</td>\n",
       "      <td>Chinese, South Indian, Desserts, Fast Food, Ke...</td>\n",
       "      <td>3.6</td>\n",
       "      <td>400</td>\n",
       "      <td>Yeshwanthpur</td>\n",
       "      <td>NaN</td>\n",
       "      <td>https://www.swiggy.com/restaurants/paris-famil...</td>\n",
       "    </tr>\n",
       "    <tr>\n",
       "      <th>10296</th>\n",
       "      <td>Swarna's Atil</td>\n",
       "      <td>Indian, Combo, Beverages</td>\n",
       "      <td>NaN</td>\n",
       "      <td>350</td>\n",
       "      <td>Yeshwanthpur</td>\n",
       "      <td>NaN</td>\n",
       "      <td>https://www.swiggy.com/restaurants/swarnas-ati...</td>\n",
       "    </tr>\n",
       "  </tbody>\n",
       "</table>\n",
       "<p>10297 rows × 7 columns</p>\n",
       "</div>"
      ],
      "text/plain": [
       "                           Restaurant Name  \\\n",
       "0                         Khichdi Paradise   \n",
       "1                     Home Plate by EatFit   \n",
       "2                          THE GRILL & CO.   \n",
       "3      555 Darjeeling Unique Asian Cuisine   \n",
       "4                                Momo Guy    \n",
       "...                                    ...   \n",
       "10292                            Holy Chic   \n",
       "10293                           PAPA ROLLS   \n",
       "10294                          RICE SAMBAR   \n",
       "10295              Paris Family Restaurant   \n",
       "10296                        Swarna's Atil   \n",
       "\n",
       "                                                Category  Rating  \\\n",
       "0           Home Food, Desserts, Beverages, Healthy Food     NaN   \n",
       "1      North Indian, Home Food, Healthy Food, Indian,...     3.9   \n",
       "2                               Indian, Tandoor, Biryani     NaN   \n",
       "3                                                  Asian     NaN   \n",
       "4                    Asian, Tibetan, Desserts, Beverages     NaN   \n",
       "...                                                  ...     ...   \n",
       "10292                                        Continental     NaN   \n",
       "10293                              North Indian, Chinese     NaN   \n",
       "10294                              South Indian, Chinese     NaN   \n",
       "10295  Chinese, South Indian, Desserts, Fast Food, Ke...     3.6   \n",
       "10296                           Indian, Combo, Beverages     NaN   \n",
       "\n",
       "       Cost for Two (in Rupees)          Area  Offer  \\\n",
       "0                           250       Arekere    NaN   \n",
       "1                           160       Arekere    NaN   \n",
       "2                           300       Arekere    NaN   \n",
       "3                           300       Arekere    NaN   \n",
       "4                           200       Arekere    NaN   \n",
       "...                         ...           ...    ...   \n",
       "10292                       700  Yeshwanthpur    NaN   \n",
       "10293                       150  Yeshwanthpur    NaN   \n",
       "10294                       400  Yeshwanthpur    NaN   \n",
       "10295                       400  Yeshwanthpur    NaN   \n",
       "10296                       350  Yeshwanthpur    NaN   \n",
       "\n",
       "                                                     URL  \n",
       "0      https://www.swiggy.com/restaurants/khichdi-par...  \n",
       "1      https://www.swiggy.com/restaurants/home-plate-...  \n",
       "2      https://www.swiggy.com/restaurants/the-grill-a...  \n",
       "3      https://www.swiggy.com/restaurants/555-darjeel...  \n",
       "4      https://www.swiggy.com/restaurants/momo-guy-jp...  \n",
       "...                                                  ...  \n",
       "10292  https://www.swiggy.com/restaurants/holy-chic-y...  \n",
       "10293  https://www.swiggy.com/restaurants/papa-rolls-...  \n",
       "10294  https://www.swiggy.com/restaurants/rice-sambar...  \n",
       "10295  https://www.swiggy.com/restaurants/paris-famil...  \n",
       "10296  https://www.swiggy.com/restaurants/swarnas-ati...  \n",
       "\n",
       "[10297 rows x 7 columns]"
      ]
     },
     "execution_count": 77,
     "metadata": {},
     "output_type": "execute_result"
    }
   ],
   "source": [
    "data"
   ]
  },
  {
   "cell_type": "code",
   "execution_count": 78,
   "id": "032760d4",
   "metadata": {},
   "outputs": [],
   "source": [
    "categ=np.array(data.Category)"
   ]
  },
  {
   "cell_type": "code",
   "execution_count": 79,
   "id": "5aa8f6a3",
   "metadata": {},
   "outputs": [
    {
     "data": {
      "text/plain": [
       "array(['Home Food, Desserts, Beverages, Healthy Food',\n",
       "       'North Indian, Home Food, Healthy Food, Indian, Punjabi, South Indian, Rajasthani...',\n",
       "       'Indian, Tandoor, Biryani', ..., 'South Indian, Chinese',\n",
       "       'Chinese, South Indian, Desserts, Fast Food, Kerala, Andhra, Mughlai, Seafood, Pu...',\n",
       "       'Indian, Combo, Beverages'], dtype=object)"
      ]
     },
     "execution_count": 79,
     "metadata": {},
     "output_type": "execute_result"
    }
   ],
   "source": [
    "categ"
   ]
  },
  {
   "cell_type": "code",
   "execution_count": 80,
   "id": "a57dc80d",
   "metadata": {},
   "outputs": [],
   "source": [
    "list_categ=list()\n",
    "for i,val in enumerate(categ):\n",
    "    aa=val.replace(\" \",\"\")\n",
    "    bb=aa.split(\",\")\n",
    "    list_categ=list_categ+bb\n",
    "    "
   ]
  },
  {
   "cell_type": "code",
   "execution_count": 81,
   "id": "97c72937",
   "metadata": {},
   "outputs": [],
   "source": [
    "cat_counts=Counter(list_categ)\n",
    "df = pd.DataFrame.from_dict(cat_counts, orient='index',columns=['freqs'])"
   ]
  },
  {
   "cell_type": "code",
   "execution_count": 82,
   "id": "8ea193bd",
   "metadata": {},
   "outputs": [],
   "source": [
    "df1=df['freqs'].nlargest(50)"
   ]
  },
  {
   "cell_type": "code",
   "execution_count": 91,
   "id": "b678a9e0",
   "metadata": {},
   "outputs": [
    {
     "data": {
      "image/png": "[encoded data removed]",
      "text/plain": [
       "<Figure size 432x288 with 1 Axes>"
      ]
     },
     "metadata": {
      "needs_background": "light"
     },
     "output_type": "display_data"
    }
   ],
   "source": [
    "plt.bar(df1.index,np.array(df1),color=\"#d43d51\")\n",
    "plt.title(\"Distribution of categories of foods in restaurents of Bangalore\")\n",
    "plt.xlabel(\"Categories of foods\")\n",
    "plt.ylabel(\"Number of restaurents\")\n",
    "plt.xticks(df1.index, rotation=90)\n",
    "plt.tick_params(axis='x', which='major', labelsize=8)\n",
    "plt.tight_layout()\n",
    "plt.savefig(\"freqs.svg\",format='svg')\n",
    "plt.show()"
   ]
  },
  {
   "cell_type": "code",
   "execution_count": 84,
   "id": "08f1a0df",
   "metadata": {},
   "outputs": [],
   "source": [
    "avg=list()\n",
    "for i,val in enumerate(np.unique(data.Area)):\n",
    "    aa=data[data.Area==val]['Cost for Two (in Rupees)'].mean(skipna=True)\n",
    "    avg=avg+[aa]"
   ]
  },
  {
   "cell_type": "code",
   "execution_count": 90,
   "id": "cb5ba36f",
   "metadata": {},
   "outputs": [
    {
     "data": {
      "image/png": "[encoded data removed]",
      "text/plain": [
       "<Figure size 432x288 with 1 Axes>"
      ]
     },
     "metadata": {
      "needs_background": "light"
     },
     "output_type": "display_data"
    }
   ],
   "source": [
    "plt.bar(np.unique(data.Area),np.array(avg),color=\"#00876c\")\n",
    "plt.title(\"Average price of food in different areas of Bangalore\")\n",
    "plt.xlabel(\"Area\")\n",
    "plt.ylabel(\"Average price\")\n",
    "plt.xticks(np.unique(data.Area), rotation=90)\n",
    "plt.tick_params(axis='x', which='major', labelsize=8)\n",
    "plt.tight_layout()\n",
    "plt.savefig(\"freqs2.svg\",format='svg')\n",
    "plt.show()"
   ]
  },
  {
   "cell_type": "code",
   "execution_count": null,
   "id": "a6d9c7c5",
   "metadata": {},
   "outputs": [],
   "source": []
  }
 ],
 "metadata": {
  "kernelspec": {
   "display_name": "Python 3 (ipykernel)",
   "language": "python",
   "name": "python3"
  },
  "language_info": {
   "codemirror_mode": {
    "name": "ipython",
    "version": 3
   },
   "file_extension": ".py",
   "mimetype": "text/x-python",
   "name": "python",
   "nbconvert_exporter": "python",
   "pygments_lexer": "ipython3",
   "version": "3.10.6"
  }
 },
 "nbformat": 4,
 "nbformat_minor": 5
}
