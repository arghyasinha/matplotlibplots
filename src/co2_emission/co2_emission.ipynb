{
 "cells": [
  {
   "cell_type": "code",
   "execution_count": 1,
   "id": "8a37b36e",
   "metadata": {},
   "outputs": [],
   "source": [
    "import numpy as np\n",
    "import pandas as pd\n",
    "import matplotlib.pyplot as plt"
   ]
  },
  {
   "cell_type": "code",
   "execution_count": 3,
   "id": "8ca73036",
   "metadata": {},
   "outputs": [],
   "source": [
    "data=pd.read_csv(\"co2_emission.csv\")"
   ]
  },
  {
   "cell_type": "code",
   "execution_count": 23,
   "id": "782ca62d",
   "metadata": {},
   "outputs": [
    {
     "data": {
      "text/html": [
       "<div>\n",
       "<style scoped>\n",
       "    .dataframe tbody tr th:only-of-type {\n",
       "        vertical-align: middle;\n",
       "    }\n",
       "\n",
       "    .dataframe tbody tr th {\n",
       "        vertical-align: top;\n",
       "    }\n",
       "\n",
       "    .dataframe thead th {\n",
       "        text-align: right;\n",
       "    }\n",
       "</style>\n",
       "<table border=\"1\" class=\"dataframe\">\n",
       "  <thead>\n",
       "    <tr style=\"text-align: right;\">\n",
       "      <th></th>\n",
       "      <th>Country</th>\n",
       "      <th>Code</th>\n",
       "      <th>Calling Code</th>\n",
       "      <th>Year</th>\n",
       "      <th>CO2 emission (Tons)</th>\n",
       "      <th>Population(2022)</th>\n",
       "      <th>Area</th>\n",
       "      <th>% of World</th>\n",
       "    </tr>\n",
       "  </thead>\n",
       "  <tbody>\n",
       "    <tr>\n",
       "      <th>270</th>\n",
       "      <td>Afghanistan</td>\n",
       "      <td>AF</td>\n",
       "      <td>93</td>\n",
       "      <td>2020</td>\n",
       "      <td>192848747</td>\n",
       "      <td>41128771.0</td>\n",
       "      <td>652230.0</td>\n",
       "      <td>0.40%</td>\n",
       "    </tr>\n",
       "    <tr>\n",
       "      <th>541</th>\n",
       "      <td>Albania</td>\n",
       "      <td>AL</td>\n",
       "      <td>355</td>\n",
       "      <td>2020</td>\n",
       "      <td>285502507</td>\n",
       "      <td>2842321.0</td>\n",
       "      <td>28748.0</td>\n",
       "      <td>0.00%</td>\n",
       "    </tr>\n",
       "    <tr>\n",
       "      <th>812</th>\n",
       "      <td>Algeria</td>\n",
       "      <td>DZ</td>\n",
       "      <td>213</td>\n",
       "      <td>2020</td>\n",
       "      <td>4587131635</td>\n",
       "      <td>44903225.0</td>\n",
       "      <td>2381741.0</td>\n",
       "      <td>1.60%</td>\n",
       "    </tr>\n",
       "    <tr>\n",
       "      <th>1083</th>\n",
       "      <td>Andorra</td>\n",
       "      <td>AD</td>\n",
       "      <td>376</td>\n",
       "      <td>2020</td>\n",
       "      <td>15070878</td>\n",
       "      <td>79824.0</td>\n",
       "      <td>468.0</td>\n",
       "      <td>0.00%</td>\n",
       "    </tr>\n",
       "    <tr>\n",
       "      <th>1354</th>\n",
       "      <td>Angola</td>\n",
       "      <td>AO</td>\n",
       "      <td>244</td>\n",
       "      <td>2020</td>\n",
       "      <td>682260326</td>\n",
       "      <td>35588987.0</td>\n",
       "      <td>1246700.0</td>\n",
       "      <td>0.80%</td>\n",
       "    </tr>\n",
       "    <tr>\n",
       "      <th>...</th>\n",
       "      <td>...</td>\n",
       "      <td>...</td>\n",
       "      <td>...</td>\n",
       "      <td>...</td>\n",
       "      <td>...</td>\n",
       "      <td>...</td>\n",
       "      <td>...</td>\n",
       "      <td>...</td>\n",
       "    </tr>\n",
       "    <tr>\n",
       "      <th>58535</th>\n",
       "      <td>Vietnam</td>\n",
       "      <td>VN</td>\n",
       "      <td>84</td>\n",
       "      <td>2020</td>\n",
       "      <td>3977272058</td>\n",
       "      <td>98186856.0</td>\n",
       "      <td>331212.0</td>\n",
       "      <td>0.20%</td>\n",
       "    </tr>\n",
       "    <tr>\n",
       "      <th>58806</th>\n",
       "      <td>Wallis and Futuna</td>\n",
       "      <td>WF</td>\n",
       "      <td>681</td>\n",
       "      <td>2020</td>\n",
       "      <td>507247</td>\n",
       "      <td>NaN</td>\n",
       "      <td>NaN</td>\n",
       "      <td>NaN</td>\n",
       "    </tr>\n",
       "    <tr>\n",
       "      <th>59077</th>\n",
       "      <td>Yemen</td>\n",
       "      <td>YE</td>\n",
       "      <td>967</td>\n",
       "      <td>2020</td>\n",
       "      <td>624654156</td>\n",
       "      <td>33696614.0</td>\n",
       "      <td>527968.0</td>\n",
       "      <td>0.40%</td>\n",
       "    </tr>\n",
       "    <tr>\n",
       "      <th>59348</th>\n",
       "      <td>Zambia</td>\n",
       "      <td>ZM</td>\n",
       "      <td>260</td>\n",
       "      <td>2020</td>\n",
       "      <td>247987833</td>\n",
       "      <td>20017675.0</td>\n",
       "      <td>752612.0</td>\n",
       "      <td>0.50%</td>\n",
       "    </tr>\n",
       "    <tr>\n",
       "      <th>59619</th>\n",
       "      <td>Zimbabwe</td>\n",
       "      <td>ZW</td>\n",
       "      <td>263</td>\n",
       "      <td>2020</td>\n",
       "      <td>779383468</td>\n",
       "      <td>16320537.0</td>\n",
       "      <td>390757.0</td>\n",
       "      <td>0.30%</td>\n",
       "    </tr>\n",
       "  </tbody>\n",
       "</table>\n",
       "<p>220 rows × 8 columns</p>\n",
       "</div>"
      ],
      "text/plain": [
       "                 Country Code Calling Code  Year  CO2 emission (Tons)  \\\n",
       "270          Afghanistan   AF           93  2020            192848747   \n",
       "541              Albania   AL          355  2020            285502507   \n",
       "812              Algeria   DZ          213  2020           4587131635   \n",
       "1083             Andorra   AD          376  2020             15070878   \n",
       "1354              Angola   AO          244  2020            682260326   \n",
       "...                  ...  ...          ...   ...                  ...   \n",
       "58535            Vietnam   VN           84  2020           3977272058   \n",
       "58806  Wallis and Futuna   WF          681  2020               507247   \n",
       "59077              Yemen   YE          967  2020            624654156   \n",
       "59348             Zambia   ZM          260  2020            247987833   \n",
       "59619           Zimbabwe   ZW          263  2020            779383468   \n",
       "\n",
       "       Population(2022)       Area % of World  \n",
       "270          41128771.0   652230.0      0.40%  \n",
       "541           2842321.0    28748.0      0.00%  \n",
       "812          44903225.0  2381741.0      1.60%  \n",
       "1083            79824.0      468.0      0.00%  \n",
       "1354         35588987.0  1246700.0      0.80%  \n",
       "...                 ...        ...        ...  \n",
       "58535        98186856.0   331212.0      0.20%  \n",
       "58806               NaN        NaN        NaN  \n",
       "59077        33696614.0   527968.0      0.40%  \n",
       "59348        20017675.0   752612.0      0.50%  \n",
       "59619        16320537.0   390757.0      0.30%  \n",
       "\n",
       "[220 rows x 8 columns]"
      ]
     },
     "execution_count": 23,
     "metadata": {},
     "output_type": "execute_result"
    }
   ],
   "source": [
    "emi_data=data[data.Year==2020]\n",
    "emi_data"
   ]
  },
  {
   "cell_type": "code",
   "execution_count": 163,
   "id": "9f646999",
   "metadata": {},
   "outputs": [],
   "source": [
    "\n",
    "Y=emi_data['CO2 emission (Tons)'].nlargest(7)\n",
    "X=emi_data.loc[Y.index,\"Country\"]\n",
    "Y_pop=emi_data.loc[Y.index,\"Population(2022)\"]"
   ]
  },
  {
   "cell_type": "code",
   "execution_count": 164,
   "id": "dd9a6d6e",
   "metadata": {},
   "outputs": [
    {
     "name": "stdout",
     "output_type": "stream",
     "text": [
      "595249308332 4223934977.0\n"
     ]
    }
   ],
   "source": [
    "Total_Popul=emi_data['Population(2022)'].sum(skipna=True)\n",
    "Total_emis=emi_data['CO2 emission (Tons)'].sum(skipna=True)\n",
    "others_popul=Total_Popul-Y_pop.sum()\n",
    "others_emis=Total_emis-Y.sum()\n",
    "\n",
    "print(others_emis,others_popul)\n",
    "\n",
    "Y_emis_o=np.append(np.array(Y),others_emis)\n",
    "Y_pop_o=np.append(np.array(Y_pop),others_popul)\n",
    "X_o=np.append(np.array(X),\"Rest of the World\")"
   ]
  },
  {
   "cell_type": "code",
   "execution_count": 177,
   "id": "3f681bd6",
   "metadata": {},
   "outputs": [
    {
     "data": {
      "image/png": "[encoded data removed]",
      "text/plain": [
       "<Figure size 432x288 with 1 Axes>"
      ]
     },
     "metadata": {
      "needs_background": "light"
     },
     "output_type": "display_data"
    }
   ],
   "source": [
    "plt.bar(X_o,Y_emis_o*10**(-11))\n",
    "plt.title(\"Top $CO_2$ emitting countries in 2020\")\n",
    "plt.xlabel(\"countries\")\n",
    "plt.ylabel(\"$CO_2$ emission ($10^{11}$ tons)\")\n",
    "plt.xticks(X_o, rotation=90)\n",
    "plt.tick_params(axis='x', which='major', labelsize=8)\n",
    "plt.tight_layout()\n",
    "plt.savefig(\"f1.svg\",format='svg')\n",
    "plt.show()"
   ]
  },
  {
   "cell_type": "code",
   "execution_count": 188,
   "id": "b6fb5763",
   "metadata": {},
   "outputs": [
    {
     "data": {
      "image/png": "[encoded data removed]",
      "text/plain": [
       "<Figure size 432x288 with 1 Axes>"
      ]
     },
     "metadata": {},
     "output_type": "display_data"
    }
   ],
   "source": [
    "colors=[\"#003f5c\",\"#2f4b7c\",\"#665191\",\"#a05195\",\"#d45087\",\"#f95d6a\",\"#ff7c43\",\"#ffa600\"]\n",
    "#colors=[\"#00876c\",\"#57a374\",\"#8fbe7e\",\"#c6d88d\",\"#fff1a3\",\"#f9c87a\",\"#f29d5f\",\"#e66f52\",\"#d43d51\"]\n",
    "plt.pie(Y_emis_o,labels=X_o,colors=colors,autopct='%1.1f%%',startangle=90,textprops={'fontsize': 5})\n",
    "#plt.tight_layout()\n",
    "#plt.legend(loc='best')\n",
    "plt.title(\"Shares of total $CO_2$ emissions among top countries\")\n",
    "plt.tight_layout()\n",
    "plt.savefig(\"pie1.svg\",format='svg')\n",
    "plt.show()"
   ]
  },
  {
   "cell_type": "code",
   "execution_count": 187,
   "id": "e29cf602",
   "metadata": {},
   "outputs": [
    {
     "data": {
      "image/png": "[encoded data removed]",
      "text/plain": [
       "<Figure size 432x288 with 1 Axes>"
      ]
     },
     "metadata": {},
     "output_type": "display_data"
    }
   ],
   "source": [
    "colors=[\"#00876c\",\"#57a374\",\"#8fbe7e\",\"#c6d88d\",\"#fff1a3\",\"#f9c87a\",\"#f29d5f\",\"#e66f52\",\"#d43d51\"]\n",
    "plt.pie(Y_pop_o,labels=X_o,colors=colors,autopct='%1.1f%%',startangle=90,textprops={'fontsize': 5})\n",
    "#plt.tight_layout()\n",
    "#plt.legend(loc='best')\n",
    "plt.title(\"Population among top carbon emitting countries\")\n",
    "plt.tight_layout()\n",
    "plt.savefig(\"pie2.svg\",format='svg')\n",
    "plt.show()"
   ]
  }
 ],
 "metadata": {
  "kernelspec": {
   "display_name": "Python 3 (ipykernel)",
   "language": "python",
   "name": "python3"
  },
  "language_info": {
   "codemirror_mode": {
    "name": "ipython",
    "version": 3
   },
   "file_extension": ".py",
   "mimetype": "text/x-python",
   "name": "python",
   "nbconvert_exporter": "python",
   "pygments_lexer": "ipython3",
   "version": "3.10.6"
  }
 },
 "nbformat": 4,
 "nbformat_minor": 5
}
